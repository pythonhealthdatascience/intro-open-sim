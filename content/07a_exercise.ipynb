{
 "cells": [
  {
   "cell_type": "markdown",
   "id": "e27ef2a4-58f2-426e-9db5-7b31bdc6c9a8",
   "metadata": {},
   "source": [
    "# Call Centre Optimization Exercise 📞\n",
    "\n",
    "🧐 For the solutions, please see the [experimentation exercise notebook](./07b_solutions.ipynb)\n",
    "\n",
    "**Objective**: Apply your knowledge of the `Experiment` class to analyze call centre performance under different scenarios.\n",
    "\n",
    "## Learning Goals\n",
    "- Create `Experiment` objects with different parameter configurations\n",
    "- Run single experiments and interpret results  \n",
    "- Conduct multiple replications for statistical reliability\n",
    "- Compare scenarios and make data-driven recommendations\n",
    "\n",
    "## Exercise Overview\n",
    "You will analyze a call centre's performance by testing different staffing levels and demand scenarios. The exercise is divided into 4 tasks."
   ]
  },
  {
   "cell_type": "markdown",
   "id": "1ca24e08-df89-479f-8ed5-42a25a1a362b",
   "metadata": {},
   "source": [
    "## 1. Imports "
   ]
  },
  {
   "cell_type": "code",
   "execution_count": null,
   "id": "0f9c1cc0-bbbb-4247-a695-fa93f4bbb116",
   "metadata": {},
   "outputs": [],
   "source": [
    "import numpy as np\n",
    "import pandas as pd\n",
    "import simpy\n",
    "import itertools\n",
    "\n",
    "# Set display options for 2dp in pandas\n",
    "pd.set_option('display.precision', 2)"
   ]
  },
  {
   "cell_type": "markdown",
   "id": "331ab9b1-a15a-4656-b88f-f03a6e3a866c",
   "metadata": {},
   "source": [
    "## 2. Simulation model imports\n",
    "\n",
    "For convenience the model is stored in a python module called `basic_model`.  We need to import:\n",
    "\n",
    "* The `Experiment` class - to set parameters,\n",
    "* Functions that wrap the model and allow us to run it. I.e. `single_run` and `multiple_replications`.\n",
    "* A function to toggle simulation debug info on and off `set_trace`\n",
    "* A function that will summarise the results of multiple experiments `create_summary_table`"
   ]
  },
  {
   "cell_type": "code",
   "execution_count": null,
   "id": "99acde15-aabc-4117-bdb5-9fd98a717191",
   "metadata": {},
   "outputs": [],
   "source": [
    "from basic_model import (\n",
    "    Experiment, \n",
    "    single_run, \n",
    "    multiple_replications, \n",
    "    create_summary_table,\n",
    "    set_trace,\n",
    ")"
   ]
  },
  {
   "cell_type": "markdown",
   "id": "85cb4b91-72c6-4155-a6b5-522ed6c70e40",
   "metadata": {},
   "source": [
    "## 4. Exercises"
   ]
  },
  {
   "cell_type": "markdown",
   "id": "36a424f3-419d-445c-9bf5-af50356713b5",
   "metadata": {},
   "source": [
    "### 4.1 Baseline Analysis\n",
    "\n",
    "First, let's understand the current system performance.\n",
    "\n",
    "**Instructions**:\n",
    "1. Create a default experiment using the `Experiment()` class\n",
    "2. Run it **once** to see the simulation events. Toggle trace on and off.\n",
    "3. Record the mean waiting time and operator utilization.\n",
    "4. Now run 10 multiple replications of the model and view results.\n",
    "6. Answer the reflection question below\n"
   ]
  },
  {
   "cell_type": "code",
   "execution_count": null,
   "id": "fdb072c7-ea95-4f56-889b-adb10e7a8364",
   "metadata": {},
   "outputs": [],
   "source": [
    "# TODO: Create a default experiment\n",
    "# baseline_experiment = ...\n",
    "\n",
    "# TODO: toggle trace to False/True\n",
    "set_trace(trace_on=False)\n",
    "\n",
    "# TODO: Run the experiment once and store results\n",
    "# baseline_results = ...\n",
    "\n",
    "# Display results\n",
    "print(\"=== BASELINE SCENARIO RESULTS ===\")\n",
    "# print(f\"Mean waiting time: {baseline_results['01_mean_waiting_time']:.2f} minutes\")\n",
    "# print(f\"Operator utilization: {baseline_results['02_operator_util']:.2f}%\")"
   ]
  },
  {
   "cell_type": "markdown",
   "id": "8180f39d-0e3a-4ec9-b2b9-3ca71f7550f9",
   "metadata": {},
   "source": [
    "We will now run multiple replications of the model. The function returns a `pandas` dataframe containing a a replication per row and a column per KPI."
   ]
  },
  {
   "cell_type": "code",
   "execution_count": null,
   "id": "6b09fbbd-8fd7-433c-8506-1e496d722b51",
   "metadata": {},
   "outputs": [],
   "source": [
    "# Run multiple replications (trace off!)\n",
    "set_trace(trace_on=False)\n",
    "\n",
    "# TODO: Run the experiment once and store results\n",
    "# baseline_reps = multiple_...\n",
    "\n",
    "# show results\n",
    "# baseline_reps"
   ]
  },
  {
   "cell_type": "code",
   "execution_count": null,
   "id": "057a944e-a65a-466e-bc77-3c600167e308",
   "metadata": {},
   "outputs": [],
   "source": [
    "# summary statistics\n",
    "# baseline_reps.describe()"
   ]
  },
  {
   "cell_type": "markdown",
   "id": "75bb3f56-13b4-497e-a873-4414eb60e1ba",
   "metadata": {},
   "source": [
    "💡🤔 **Reflection Question**: Based on the baseline results, what do you observe about the system performance? Is the utilization high or low? What might this suggest about the current staffing level?"
   ]
  },
  {
   "cell_type": "markdown",
   "id": "a439d818-e14e-40f5-9b77-2447111f11a4",
   "metadata": {},
   "source": [
    "**Your Answer**: [Write your analysis here]"
   ]
  },
  {
   "cell_type": "markdown",
   "id": "03ca3af9-621b-4ef4-b4c5-17a4b9bf57a0",
   "metadata": {},
   "source": [
    "### 4.2 Staffing Scenarios Analysis\n",
    "\n",
    "Now test three different staffing scenarios using multiple replications for statistical reliability.\n",
    "\n",
    "**Scenarios to test**:\n",
    "1. **Reduced Staffing**: 11 operators\n",
    "2. **Current Staffing**: 13 operators (baseline)  \n",
    "3. **Increased Staffing**: 15 operators\n",
    "\n",
    "**Requirements**:\n",
    "- Run each scenario with **10 replications**\n",
    "- Calculate mean and standard deviation for both KPIs\n",
    "- Create a summary comparison table\n"
   ]
  },
  {
   "cell_type": "code",
   "execution_count": null,
   "id": "924d6ab1-c240-4832-8737-8adf4390fc33",
   "metadata": {},
   "outputs": [],
   "source": [
    "# Task 2: Staffing Scenarios\n",
    "# Turn off tracing for cleaner output\n",
    "set_trace(trace_on=False)\n",
    "\n",
    "# TODO: Create three experiments with different staffing levels\n",
    "# reduced_staffing = Experiment(n_operators=11)\n",
    "# current_staffing = ...\n",
    "# increased_staffing = ...\n",
    "\n",
    "# TODO: Run 10 replications for each scenario\n",
    "print(\"Running reduced staffing scenario (11 operators)...\")\n",
    "# reduced_results = ...\n",
    "\n",
    "print(\"Running current staffing scenario (13 operators)...\")\n",
    "# current_results = ...\n",
    "\n",
    "print(\"Running increased staffing scenario (15 operators)...\")\n",
    "# increased_results = ...\n",
    "\n",
    "print(\"All scenarios completed!\")"
   ]
  },
  {
   "cell_type": "code",
   "execution_count": null,
   "id": "01f4d22d-bddf-4a2b-a231-aeb979acdd70",
   "metadata": {},
   "outputs": [],
   "source": [
    "# TODO: Calculate summary statistics for each scenario (uncomment and run)\n",
    "\n",
    "# Create results dictionary\n",
    "# scenario_results = {\n",
    "#     'Reduced (11 ops)': reduced_results,\n",
    "#     'Current (13 ops)': current_results,\n",
    "#     'Increased (15 ops)': increased_results\n",
    "# }\n",
    "\n",
    "# # Create summary table\n",
    "# scenarios_summary = create_summary_table(\n",
    "#     results_dict=scenario_results,\n",
    "#     label_key='Scenario',\n",
    "#     label_order=['Reduced (11 ops)', 'Current (13 ops)', 'Increased (15 ops)']\n",
    "# )\n",
    "\n",
    "# print(\"=== STAFFING SCENARIOS SUMMARY ===\")\n",
    "# scenarios_summary"
   ]
  },
  {
   "cell_type": "markdown",
   "id": "be8beaf1-b274-4a9a-af0c-54a41a644ef8",
   "metadata": {},
   "source": [
    "### 4.3 Demand Variation Analysis\n",
    "\n",
    "Test how the baseline staffing (13 operators) performs under different demand levels by varying the mean inter-arrival time.\n",
    "\n",
    "**Demand Scenarios**:\n",
    "1. **Low Demand**: `mean_iat=0.8` (calls arrive less frequently)\n",
    "2. **Current Demand**: `mean_iat=0.6` (baseline)\n",
    "3. **High Demand**: `mean_iat=0.4` (calls arrive more frequently)\n",
    "\n",
    "**Requirements**:\n",
    "- Use 10 replications for each demand scenario\n",
    "- Keep staffing at 13 operators for all tests\n",
    "- Compare results to identify potential problems\n"
   ]
  },
  {
   "cell_type": "code",
   "execution_count": null,
   "id": "bbf3fd54-0b66-4db7-b98c-c4268f65f69e",
   "metadata": {},
   "outputs": [],
   "source": [
    "# Task 3: Demand Variation Analysis\n",
    "# TODO: Create three experiments with different demand levels (mean_iat)\n",
    "# low_demand = Experiment(n_operators=13, mean_iat=0.8)\n",
    "# current_demand = ...\n",
    "# high_demand = ...\n",
    "\n",
    "# TODO: Run 10 replications for each demand scenario\n",
    "print(\"Running low demand scenario (mean_iat=0.8)...\")\n",
    "# low_demand_results = multiple_replications(low_demand, n_reps=10)\n",
    "\n",
    "print(\"Running current demand scenario (mean_iat=0.6)...\")\n",
    "# current_demand_results = multiple_replications(current_demand, n_reps=10)\n",
    "\n",
    "print(\"Running high demand scenario (mean_iat=0.4)...\")\n",
    "# high_demand_results = multiple_replications(high_demand, n_reps=10)\n",
    "\n",
    "print(\"All demand scenarios completed!\")"
   ]
  },
  {
   "cell_type": "code",
   "execution_count": null,
   "id": "b900ef13-9ec6-41d8-8bf3-49193c3b0ed7",
   "metadata": {},
   "outputs": [],
   "source": [
    "# TODO: Create summary table for demand scenarios (uncomment and run)\n",
    "\n",
    "# # Create results dictionary\n",
    "# scenario_results = {\n",
    "#     'Low (IAT=0.8)': low_demand_results,\n",
    "#     'Current (IAT=0.6)': current_demand_results,\n",
    "#     'High (IAT=0.4)': high_demand_results\n",
    "# }\n",
    "\n",
    "# # Create summary table\n",
    "# demand_summary = create_summary_table(\n",
    "#     results_dict=scenario_results,\n",
    "#     label_key='Scenario',\n",
    "#     label_order=['Low (IAT=0.8)', 'Current (IAT=0.6)', 'High (IAT=0.4)']\n",
    "# )\n",
    "\n",
    "# print(\"=== STAFFING SCENARIOS SUMMARY ===\")\n",
    "# demand_summary"
   ]
  },
  {
   "cell_type": "markdown",
   "id": "46cdd911-0124-4ff6-8bad-0646149b8ae8",
   "metadata": {},
   "source": [
    "### 4.4 Recommendations\n",
    "\n",
    "Based on your analysis from the exercises above, provide data-driven recommendations.\n",
    "\n",
    "**Questions to address**:\n",
    "\n",
    "1. **Optimal Staffing**: What is the \"optimal\" number of operators for current demand levels? Consider both waiting times and utilization efficiency.\n",
    "\n",
    "2. **High Demand Response**: What happens to the system under high demand conditions? What would you recommend to management?\n",
    "\n",
    "3. **Trade-offs**: Explain the trade-off between operator utilization and customer waiting times that you observed.\n",
    "\n",
    "**Your Recommendations**:\n",
    "\n",
    "### Question 1 - Optimal Staffing\n",
    "[Provide your analysis and recommendation here]\n",
    "\n",
    "### Question 2 - High Demand Response  \n",
    "[Describe what happens under high demand and your recommendations]\n",
    "\n",
    "### Question 3 - Trade-offs\n",
    "[Explain the utilization vs. waiting time trade-off you observed]\n"
   ]
  }
 ],
 "metadata": {
  "kernelspec": {
   "display_name": "Python 3 (ipykernel)",
   "language": "python",
   "name": "python3"
  },
  "language_info": {
   "codemirror_mode": {
    "name": "ipython",
    "version": 3
   },
   "file_extension": ".py",
   "mimetype": "text/x-python",
   "name": "python",
   "nbconvert_exporter": "python",
   "pygments_lexer": "ipython3",
   "version": "3.11.11"
  }
 },
 "nbformat": 4,
 "nbformat_minor": 5
}
