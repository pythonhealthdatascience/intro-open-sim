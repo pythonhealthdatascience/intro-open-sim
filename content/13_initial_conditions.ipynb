{
 "cells": [
  {
   "cell_type": "code",
   "execution_count": 1,
   "id": "648f13c0-0d37-4b6e-a411-b246862ac45f",
   "metadata": {},
   "outputs": [],
   "source": [
    "import numpy as np\n",
    "import pandas as pd\n",
    "import simpy"
   ]
  },
  {
   "cell_type": "code",
   "execution_count": 11,
   "id": "4747df90-3eda-4622-b26f-98c3b132175f",
   "metadata": {},
   "outputs": [],
   "source": [
    "from callcentresim.model import (\n",
    "    Experiment,\n",
    "    arrivals_generator,\n",
    "    operator_service,\n",
    "    nurse_consultation,\n",
    "    warmup_complete,\n",
    "    WARM_UP_PERIOD,\n",
    "    RESULTS_COLLECTION_PERIOD,\n",
    "    MonitoredResource\n",
    ")"
   ]
  },
  {
   "cell_type": "code",
   "execution_count": 3,
   "id": "08567aa5-fd8e-4e4d-b291-6844811e9778",
   "metadata": {},
   "outputs": [],
   "source": [
    "def setup_initial_conditions(\n",
    "    env: simpy.Environment, \n",
    "    args: Experiment, \n",
    "    n_in_operator_queue: int,\n",
    "    n_in_nurse_queue: int\n",
    "):\n",
    "    \"\"\"Set up initial conditions with patients already in the queues.\"\"\"\n",
    "    initial_id = 0\n",
    "    for i in range(n_in_operator_queue):\n",
    "        initial_id += 1\n",
    "        # Create patients with negative IDs to distinguish them as init cond.\n",
    "        env.process(operator_service(-initial_id, env, args))\n",
    "\n",
    "    for i in range(n_in_nurse_queue):\n",
    "        initial_id += 1\n",
    "        env.process(nurse_consultation(-initial_id, env, args))"
   ]
  },
  {
   "cell_type": "code",
   "execution_count": 26,
   "id": "832b6e25-6479-44e0-82d6-0e3d83f045b9",
   "metadata": {},
   "outputs": [],
   "source": [
    "def single_run(\n",
    "    experiment,\n",
    "    rep=0,\n",
    "    wu_period=WARM_UP_PERIOD,\n",
    "    rc_period=RESULTS_COLLECTION_PERIOD,\n",
    "):\n",
    "    \"\"\"\n",
    "    Perform a single run of the model and return the results\n",
    "\n",
    "    Parameters:\n",
    "    -----------\n",
    "\n",
    "    experiment: Experiment\n",
    "        The experiment/paramaters to use with model\n",
    "\n",
    "    rep: int\n",
    "        The replication number.\n",
    "\n",
    "    wu_period: float, optional (default=WARM_UP_PERIOD)\n",
    "        The initial transient period of the simulation\n",
    "        Results from this period are removed from final computations.\n",
    "\n",
    "    rc_period: float, optional (default=RESULTS_COLLECTION_PERIOD)\n",
    "        The run length of the model following warm up where results are\n",
    "        collected.\n",
    "    \"\"\"\n",
    "\n",
    "    # results dictionary.  Each KPI is a new entry.\n",
    "    run_results = {}\n",
    "\n",
    "    # reset all results variables to zero and empty\n",
    "    experiment.init_results_variables()\n",
    "\n",
    "    # set random number set to the replication no.\n",
    "    # this controls sampling for the run.\n",
    "    experiment.set_random_no_set(rep)\n",
    "\n",
    "    # environment is (re)created inside single run\n",
    "    env = simpy.Environment()\n",
    "\n",
    "    # create the MONITORED resources\n",
    "    experiment.operators = MonitoredResource(env, experiment.n_operators)\n",
    "    experiment.nurses = MonitoredResource(env, experiment.n_nurses)\n",
    "\n",
    "    # set initial conditions\n",
    "    setup_initial_conditions(env, experiment, 5, 30)\n",
    "    \n",
    "    # we pass the experiment to the arrivals generator\n",
    "    env.process(arrivals_generator(env, experiment))\n",
    "\n",
    "    # add warm-up period event\n",
    "    env.process(warmup_complete(wu_period, env, experiment))\n",
    "\n",
    "    # clean up resources to add in any final resource usage time\n",
    "    env.process(experiment.operators.end_of_run_cleanup(wu_period + rc_period))\n",
    "    env.process(experiment.nurses.end_of_run_cleanup(wu_period + rc_period))\n",
    "\n",
    "    # run for warm-up + results collection period\n",
    "    env.run(until=wu_period + rc_period)\n",
    "\n",
    "    # end of run results: calculate mean waiting time\n",
    "    run_results[\"01_mean_waiting_time\"] = np.mean(\n",
    "        experiment.results[\"waiting_times\"]\n",
    "    )\n",
    "\n",
    "    # end of run results: calculate mean operator utilisation\n",
    "    # from montiored resource stats\n",
    "    run_results[\"02_operator_util\"] = (\n",
    "        experiment.operators.area_resource_busy\n",
    "        / (rc_period * experiment.n_operators)\n",
    "    ) * 100.0\n",
    "\n",
    "    # mean queue lengths\n",
    "    run_results[\"03_operator_queue_length\"] = (\n",
    "        experiment.operators.area_n_in_queue / rc_period\n",
    "    )\n",
    "\n",
    "    # summary results for nurse process\n",
    "\n",
    "    # end of run results: nurse waiting time\n",
    "    run_results[\"04_mean_nurse_waiting_time\"] = np.mean(\n",
    "        experiment.results[\"nurse_waiting_times\"]\n",
    "    )\n",
    "\n",
    "    run_results[\"05_nurse_util\"] = (\n",
    "        experiment.nurses.area_resource_busy\n",
    "        / (rc_period * experiment.n_nurses)\n",
    "    ) * 100.0\n",
    "\n",
    "    run_results[\"06_nurse_queue_length\"] = (\n",
    "        experiment.nurses.area_n_in_queue / rc_period\n",
    "    )\n",
    "\n",
    "    # return the results from the run of the model\n",
    "    return run_results"
   ]
  },
  {
   "cell_type": "code",
   "execution_count": 31,
   "id": "91c8eddb-1da1-42a5-82ae-bf608b77ecdb",
   "metadata": {},
   "outputs": [
    {
     "data": {
      "text/plain": [
       "{'01_mean_waiting_time': 3.900148610299943,\n",
       " '02_operator_util': 93.50220996145579,\n",
       " '03_operator_queue_length': 6.4820469903184925,\n",
       " '04_mean_nurse_waiting_time': 70.14348918684135,\n",
       " '05_nurse_util': 99.78834142055959,\n",
       " '06_nurse_queue_length': 48.62782528748787}"
      ]
     },
     "execution_count": 31,
     "metadata": {},
     "output_type": "execute_result"
    }
   ],
   "source": [
    "default_args = Experiment()\n",
    "results = single_run(default_args, wu_period=0)\n",
    "results"
   ]
  },
  {
   "cell_type": "code",
   "execution_count": null,
   "id": "deb1ded2-ba98-406d-9030-4937ed779bd3",
   "metadata": {},
   "outputs": [],
   "source": []
  },
  {
   "cell_type": "code",
   "execution_count": null,
   "id": "f0a7f949-239c-4d75-ae62-8224a75a8615",
   "metadata": {},
   "outputs": [],
   "source": []
  }
 ],
 "metadata": {
  "kernelspec": {
   "display_name": "Python 3 (ipykernel)",
   "language": "python",
   "name": "python3"
  },
  "language_info": {
   "codemirror_mode": {
    "name": "ipython",
    "version": 3
   },
   "file_extension": ".py",
   "mimetype": "text/x-python",
   "name": "python",
   "nbconvert_exporter": "python",
   "pygments_lexer": "ipython3",
   "version": "3.11.11"
  }
 },
 "nbformat": 4,
 "nbformat_minor": 5
}
