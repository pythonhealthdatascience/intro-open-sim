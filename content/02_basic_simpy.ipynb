{
 "cells": [
  {
   "cell_type": "markdown",
   "id": "50446585-a13f-4c90-9700-58015b670d9c",
   "metadata": {},
   "source": [
    "# An introduction to SimPy\n",
    "\n",
    "In this tutorial, we will use **SimPy**, a free and open-source software (FOSS) framework for discrete-event simulation.\n",
    "\n",
    "## 1. Why choose FOSS and SimPy?\n",
    "\n",
    "💪 A strength of SimPy is its **simplicity and flexibility**.\n",
    "\n",
    "* As it is part of Python, it is often straightforward to use SimPy to model complex logic and make use of the [SciPy stack](https://projects.scipy.org/stackspec.html)!\n",
    "\n",
    "📝 You will initially need to **write lots of code** - or borrow code from existing simulation studies online. Do not worry though! As you use SimPy, you will build up your own library of reusable code that you can draw upon and build on for future simulation projects.\n",
    "\n",
    "♻️ SimPy is **FOSS** - the benefits of this for research are that:\n",
    "\n",
    "* Model logic is **transparent**\n",
    "* It can be readily **shared** with others\n",
    "* It can easily **link to other data science tools** (e.g. `sklearn` or `pytorch` for machine learning)"
   ]
  },
  {
   "cell_type": "markdown",
   "id": "71ec6d31-c791-4945-83fd-c96670e4b492",
   "metadata": {},
   "source": [
    "## 2. Imports\n",
    "\n",
    "For `simpy`, the typical style is to import the whole package as follows:"
   ]
  },
  {
   "cell_type": "code",
   "execution_count": 1,
   "id": "3e306312-aaa9-425b-b778-ef859f8f882a",
   "metadata": {},
   "outputs": [],
   "source": [
    "import simpy"
   ]
  },
  {
   "cell_type": "markdown",
   "id": "968d7a3d-763d-48a0-9915-421631d1f650",
   "metadata": {},
   "source": [
    "# 3. An example: a urgent care call sample\n",
    "\n",
    "This case study uses a simple model of an urgent care telephone call centre, similar to the NHS 111 service in the UK.  To learn `simpy` we will first build a very simple model. In our first iteration of this model, calls to the centre arrive **deterministically**.  For now we will ignore resources and activities in the model and just model a deterministic arrival process.   The simulation time units are in minutes.  Let's assume there are 60 new callers per hour (an fixed inter-arrival time of 1.0 per minute).\n",
    "\n",
    "## 4. The model building blocks\n",
    "\n",
    "To build our model, we will need the following components...\n",
    "\n",
    "### 4.1 A SimPy environment\n",
    "\n",
    "`simpy` has process based worldview.  These processes take place in an environment.  You can create a environment with the following line of code:\n",
    "\n",
    "```python\n",
    "env = simpy.Environment()\n",
    "```\n",
    "\n",
    "### 4.2 SimPy timeouts\n",
    "\n",
    "We can introduce **delays** or **activities** into a process.  For example these might be the duration of a stay on a ward, or the duration of a operation - or, in this case, a **delay between arrivals (inter-arrival time)**. In `simpy` you control this with the following method:\n",
    "\n",
    "```python\n",
    "env.timeout(1.0)\n",
    "```\n",
    "\n",
    "### 4.3 Generators\n",
    "\n",
    "The events in the DES are modelled and scheduled in `simpy` using python **generators** (i.e. they are the \"event-processing mechanism\"). A generator is a function that behaves like an iterator, meaning it can yield a **sequence of values** when iterated over.\n",
    "\n",
    "For example, below is a basic generator function that yields a new arrival every 1 minute. It takes the **environment** as a parameter. It then internally calls the `env.timeout()` method in an infinite loop.\n",
    "\n",
    "```python\n",
    "def arrivals_generator(env):\n",
    "    while True:\n",
    "        yield env.timeout(1.0)\n",
    "```\n",
    "\n",
    "### 4.4 SimPy process and run\n",
    "\n",
    "Once we have coded the model logic and created an environment instance, there are two remaining instructions we need to code.\n",
    "\n",
    "1. Set the generator up as a **SimPy process** using `env.process()`\n",
    "\n",
    "```python\n",
    "env.process(arrivals_generator(env))\n",
    "```\n",
    "\n",
    "2. Run the environment for a user specified **run length** using `env.run()`\n",
    "\n",
    "```python\n",
    "env.run(until=25)\n",
    "```\n",
    "\n",
    "The run method handle the infinite loop we set up in `arrivals_generator`. The simulation model has an internal concept of time.  It will end execution when its internal clock reaches 25 time units.\n",
    "\n",
    "## 5. Create the model\n",
    "\n",
    "**Now that we have covered the basic building blocks, let's code the actual model.**  It makes sense to create our model logic first.  The code below will generate arrivals every 60.0 / 100.0 minutes.  Note that the function takes an environment object as a parameter."
   ]
  },
  {
   "cell_type": "code",
   "execution_count": 22,
   "id": "a6fd524c-7dc4-41c0-876d-3507ce480dfb",
   "metadata": {},
   "outputs": [],
   "source": [
    "def arrivals_generator(env):\n",
    "    '''\n",
    "    Callers arrive with a fixed inter-arrival time of 1.0 minutes.\n",
    "\n",
    "    Parameters:\n",
    "    ------\n",
    "    env: simpy.Environment\n",
    "    '''\n",
    "    \n",
    "    # don't worry about the infinite while loop, simpy will\n",
    "    # exit at the correct time.\n",
    "    while True:\n",
    "        \n",
    "        # sample an inter-arrival time.\n",
    "        inter_arrival_time = 1.0\n",
    "        \n",
    "        # we use the yield keyword instead of return\n",
    "        yield env.timeout(inter_arrival_time)\n",
    "        \n",
    "        # print out the time of the arrival\n",
    "        print(f'Call arrives at: {env.now}')"
   ]
  },
  {
   "cell_type": "markdown",
   "id": "aa6042f3-b7a7-4c3a-a5d8-7eb7f3796bf2",
   "metadata": {},
   "source": [
    "Now that we have our generator function we can setup the environment, process and call run.  We will create a `RUN_LENGTH` parameter that you can change to run the model for different time lengths.\n",
    "\n",
    "**Consider:** What would happen if we set `RUN_LENGTH` to 50?"
   ]
  },
  {
   "cell_type": "code",
   "execution_count": 23,
   "id": "f6f74ff5-4c95-400e-8494-42e438b18b90",
   "metadata": {},
   "outputs": [
    {
     "name": "stdout",
     "output_type": "stream",
     "text": [
      "Call arrives at: 1.0\n",
      "Call arrives at: 2.0\n",
      "Call arrives at: 3.0\n",
      "Call arrives at: 4.0\n",
      "Call arrives at: 5.0\n",
      "Call arrives at: 6.0\n",
      "Call arrives at: 7.0\n",
      "Call arrives at: 8.0\n",
      "Call arrives at: 9.0\n",
      "Call arrives at: 10.0\n",
      "Call arrives at: 11.0\n",
      "Call arrives at: 12.0\n",
      "Call arrives at: 13.0\n",
      "Call arrives at: 14.0\n",
      "Call arrives at: 15.0\n",
      "Call arrives at: 16.0\n",
      "Call arrives at: 17.0\n",
      "Call arrives at: 18.0\n",
      "Call arrives at: 19.0\n",
      "Call arrives at: 20.0\n",
      "Call arrives at: 21.0\n",
      "Call arrives at: 22.0\n",
      "Call arrives at: 23.0\n",
      "Call arrives at: 24.0\n",
      "end of run. simulation clock time = 25\n"
     ]
    }
   ],
   "source": [
    "# model parameters\n",
    "RUN_LENGTH = 25\n",
    "\n",
    "# create the simpy environment object\n",
    "env = simpy.Environment()\n",
    "\n",
    "# tell simpy that the `arrivals_generator` is a process\n",
    "env.process(arrivals_generator(env))\n",
    "\n",
    "# run the simulation model\n",
    "env.run(until=RUN_LENGTH)\n",
    "print(f'end of run. simulation clock time = {env.now}')"
   ]
  },
  {
   "cell_type": "markdown",
   "id": "c3aa041b-6b8f-4b15-becc-bd966d0eb794",
   "metadata": {},
   "source": [
    "## 6. Exercise\n",
    "\n",
    "Before we learn anything more about `simpy`, have a go at the [generators exercise](./03a_exercise1.ipynb).\n",
    "\n",
    "In the exercise you will need to modify the `arrivals_generator` so that it has random arrivals. This exercise tests that you have understood the basics of `simpy` and random sampling in `numpy`\n"
   ]
  }
 ],
 "metadata": {
  "kernelspec": {
   "display_name": "Python 3 (ipykernel)",
   "language": "python",
   "name": "python3"
  },
  "language_info": {
   "codemirror_mode": {
    "name": "ipython",
    "version": 3
   },
   "file_extension": ".py",
   "mimetype": "text/x-python",
   "name": "python",
   "nbconvert_exporter": "python",
   "pygments_lexer": "ipython3",
   "version": "3.11.11"
  }
 },
 "nbformat": 4,
 "nbformat_minor": 5
}
